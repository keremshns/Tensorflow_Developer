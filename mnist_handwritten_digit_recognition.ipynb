{
  "nbformat": 4,
  "nbformat_minor": 0,
  "metadata": {
    "colab": {
      "provenance": [],
      "gpuType": "T4",
      "authorship_tag": "ABX9TyMK14vTCSvyxAvECJPazNVV",
      "include_colab_link": true
    },
    "kernelspec": {
      "name": "python3",
      "display_name": "Python 3"
    },
    "language_info": {
      "name": "python"
    },
    "accelerator": "GPU"
  },
  "cells": [
    {
      "cell_type": "markdown",
      "metadata": {
        "id": "view-in-github",
        "colab_type": "text"
      },
      "source": [
        "<a href=\"https://colab.research.google.com/github/keremshns/tensorflow_developer/blob/main/mnist_handwritten_digit_recognition.ipynb\" target=\"_parent\"><img src=\"https://colab.research.google.com/assets/colab-badge.svg\" alt=\"Open In Colab\"/></a>"
      ]
    },
    {
      "cell_type": "code",
      "source": [
        "import tensorflow as tf\n",
        "import numpy as np\n",
        "import matplotlib.pyplot as plt\n",
        "import os"
      ],
      "metadata": {
        "id": "kvJSsEG1dLG7"
      },
      "execution_count": null,
      "outputs": []
    },
    {
      "cell_type": "code",
      "source": [
        "# Assign training and validation set directories\n",
        "base_dir = 'tmp/'\n",
        "train_dir = os.path.join(base_dir, 'train')\n",
        "val_dir = os.path.join(base_dir, 'validation')\n"
      ],
      "metadata": {
        "id": "pqj3L89UbCrd"
      },
      "execution_count": null,
      "outputs": []
    },
    {
      "cell_type": "code",
      "source": [
        "#LOAD/SPLIT DATA\n",
        "(x_train, y_train), (x_test,y_test) = tf.keras.datasets.mnist.load_data()\n",
        "\n",
        "num_train_images = len(x_train)\n",
        "img_shape = x_train[0].shape\n",
        "labels_shape = y_train.shape\n",
        "\n",
        "print(num_train_images)\n",
        "print(img_shape)\n",
        "print(labels_shape)"
      ],
      "metadata": {
        "id": "l1KWsH23URun"
      },
      "execution_count": null,
      "outputs": []
    },
    {
      "cell_type": "code",
      "source": [
        "def normalizer(x_train, y_train, x_test, y_test):\n",
        "  x_train = x_train/255.0\n",
        "  x_test = x_test/255.0\n",
        "\n",
        "  return (x_train, y_train), (x_test,y_test)\n",
        "\n",
        "def create_generators(x_train, y_train, x_test, y_test):\n",
        "\n",
        "  train_generator = tf.keras.preprocess.ImageDataGenerator(rescale=1/255.0,\n",
        "                                                           rotation_range=15,\n",
        "                                                           width_shift_range=0.2,\n",
        "                                                           height_shift_range=0.2,\n",
        "                                                           zoom=0.1)\n",
        "\n",
        "  val_generator = tf.keras.preprocess.ImageDataGenerator(rescale=1/255.0,\n",
        "                                                          rotation_range=15,\n",
        "                                                         width_shift_range=0.2,\n",
        "                                                          height_shift_range=0.2,\n",
        "                                                         zoom=0.1)\n",
        "  return train_generator, val_generator\n",
        "\n",
        "\n",
        "\n"
      ],
      "metadata": {
        "colab": {
          "base_uri": "https://localhost:8080/"
        },
        "id": "ZcbDP4RTxK6i",
        "outputId": "d04e8356-dd5c-4966-8919-ddf8435cf833"
      },
      "execution_count": null,
      "outputs": [
        {
          "output_type": "stream",
          "name": "stdout",
          "text": [
            "60000\n",
            "(28, 28)\n",
            "(60000,)\n"
          ]
        }
      ]
    },
    {
      "cell_type": "code",
      "source": [
        "##RUN WHEN USING IMAGE DATA GENERATOR\n",
        "train_generator, val_generator = create_generators(x_train, y_train, x_test, y_test)\n",
        "\n",
        "train_generator = train_generator.flow_from_directory(train_dir,\n",
        "                                                      color_mode=\"grayscale\",\n",
        "                                                      batch_size=256,\n",
        "                                                      class_mode=\"sparse\"\n",
        "                                                      )\n",
        "\n",
        "val_generator = val_generator.flow_from_directory(val_dir,\n",
        "                                                  color_mode=\"grayscale\",\n",
        "                                                  batch_size=256,\n",
        "                                                  class_mode=\"sparse\"\n",
        "                                                  )\n"
      ],
      "metadata": {
        "id": "M6NGaHlfVNqL"
      },
      "execution_count": null,
      "outputs": []
    },
    {
      "cell_type": "code",
      "source": [
        "#RUN WHEN USING NORMALIZER\n",
        "(x_train, y_train), (x_test, y_test) = normalizer(x_train, y_train, x_test, y_test)"
      ],
      "metadata": {
        "id": "DGHsF3V6NRVQ"
      },
      "execution_count": null,
      "outputs": []
    },
    {
      "cell_type": "code",
      "source": [
        "epochs = 20"
      ],
      "metadata": {
        "id": "5XVX_5sM1hM0"
      },
      "execution_count": null,
      "outputs": []
    },
    {
      "cell_type": "code",
      "source": [
        "model = tf.keras.Sequential([\n",
        "\n",
        "        tf.keras.layers.Conv2D(60, (2,2), input_shape=(28,28,1), padding=\"same\"),\n",
        "        tf.keras.layers.MaxPool2D(2,2),\n",
        "        tf.keras.layers.Conv2D(30, (2,2), padding=\"same\"),\n",
        "        tf.keras.layers.MaxPool2D(2,2),\n",
        "        tf.keras.layers.Conv2D(10, (2,2), padding=\"same\"),\n",
        "        tf.keras.layers.MaxPool2D(2,2),\n",
        "        tf.keras.layers.GlobalMaxPool2D(),\n",
        "        tf.keras.layers.Dense(128, activation=\"relu\"),\n",
        "        tf.keras.layers.Dense(32, activation=\"relu\"),\n",
        "        tf.keras.layers.Dense(10, activation=\"softmax\"),\n",
        "\n",
        "])\n",
        "\n",
        "model.summary()\n",
        "\n",
        "callback = tf.keras.callbacks.LearningRateScheduler(lambda epochs: 1e-4 * 10**(epochs/10))\n",
        "\n",
        "optimizer = tf.keras.optimizers.Adam(lr=1e-4)\n",
        "model.compile(optimizer=optimizer, loss=\"sparse_categorical_crossentropy\", metrics=[\"accuracy\"] )\n",
        "\n",
        "history = model.fit(image_generator, epochs=epochs, validation_data=val_generator, callbacks=[callback])\n",
        "\n"
      ],
      "metadata": {
        "colab": {
          "base_uri": "https://localhost:8080/"
        },
        "id": "lNA2ml6pzG5w",
        "outputId": "a1feb609-8489-4b52-bfcf-9c788f420c20"
      },
      "execution_count": null,
      "outputs": [
        {
          "output_type": "stream",
          "name": "stdout",
          "text": [
            "Model: \"sequential_2\"\n",
            "_________________________________________________________________\n",
            " Layer (type)                Output Shape              Param #   \n",
            "=================================================================\n",
            " conv2d_6 (Conv2D)           (None, 28, 28, 60)        300       \n",
            "                                                                 \n",
            " max_pooling2d_6 (MaxPooling  (None, 14, 14, 60)       0         \n",
            " 2D)                                                             \n",
            "                                                                 \n",
            " conv2d_7 (Conv2D)           (None, 14, 14, 30)        7230      \n",
            "                                                                 \n",
            " max_pooling2d_7 (MaxPooling  (None, 7, 7, 30)         0         \n",
            " 2D)                                                             \n",
            "                                                                 \n",
            " conv2d_8 (Conv2D)           (None, 7, 7, 10)          1210      \n",
            "                                                                 \n",
            " max_pooling2d_8 (MaxPooling  (None, 3, 3, 10)         0         \n",
            " 2D)                                                             \n",
            "                                                                 \n",
            " global_max_pooling2d_2 (Glo  (None, 10)               0         \n",
            " balMaxPooling2D)                                                \n",
            "                                                                 \n",
            " dense_6 (Dense)             (None, 128)               1408      \n",
            "                                                                 \n",
            " dense_7 (Dense)             (None, 32)                4128      \n",
            "                                                                 \n",
            " dense_8 (Dense)             (None, 10)                330       \n",
            "                                                                 \n",
            "=================================================================\n",
            "Total params: 14,606\n",
            "Trainable params: 14,606\n",
            "Non-trainable params: 0\n",
            "_________________________________________________________________\n"
          ]
        },
        {
          "output_type": "stream",
          "name": "stderr",
          "text": [
            "WARNING:absl:`lr` is deprecated in Keras optimizer, please use `learning_rate` or use the legacy optimizer, e.g.,tf.keras.optimizers.legacy.Adam.\n"
          ]
        },
        {
          "output_type": "stream",
          "name": "stdout",
          "text": [
            "Epoch 1/20\n",
            "1875/1875 [==============================] - 11s 5ms/step - loss: 1.5211 - accuracy: 0.4752 - val_loss: 0.9434 - val_accuracy: 0.6899 - lr: 1.0000e-04\n",
            "Epoch 2/20\n",
            "1875/1875 [==============================] - 9s 5ms/step - loss: 0.7902 - accuracy: 0.7442 - val_loss: 0.6462 - val_accuracy: 0.7881 - lr: 1.2589e-04\n",
            "Epoch 3/20\n",
            "1875/1875 [==============================] - 10s 6ms/step - loss: 0.5945 - accuracy: 0.8094 - val_loss: 0.5099 - val_accuracy: 0.8345 - lr: 1.5849e-04\n",
            "Epoch 4/20\n",
            "1875/1875 [==============================] - 9s 5ms/step - loss: 0.4924 - accuracy: 0.8425 - val_loss: 0.4396 - val_accuracy: 0.8566 - lr: 1.9953e-04\n",
            "Epoch 5/20\n",
            "1875/1875 [==============================] - 9s 5ms/step - loss: 0.4250 - accuracy: 0.8646 - val_loss: 0.3725 - val_accuracy: 0.8816 - lr: 2.5119e-04\n",
            "Epoch 6/20\n",
            "1875/1875 [==============================] - 9s 5ms/step - loss: 0.3644 - accuracy: 0.8836 - val_loss: 0.3302 - val_accuracy: 0.8926 - lr: 3.1623e-04\n",
            "Epoch 7/20\n",
            "1875/1875 [==============================] - 9s 5ms/step - loss: 0.3166 - accuracy: 0.9007 - val_loss: 0.2613 - val_accuracy: 0.9177 - lr: 3.9811e-04\n",
            "Epoch 8/20\n",
            "1875/1875 [==============================] - 9s 5ms/step - loss: 0.2780 - accuracy: 0.9126 - val_loss: 0.2228 - val_accuracy: 0.9305 - lr: 5.0119e-04\n",
            "Epoch 9/20\n",
            "1875/1875 [==============================] - 9s 5ms/step - loss: 0.2469 - accuracy: 0.9228 - val_loss: 0.2173 - val_accuracy: 0.9325 - lr: 6.3096e-04\n",
            "Epoch 10/20\n",
            "1875/1875 [==============================] - 9s 5ms/step - loss: 0.2292 - accuracy: 0.9275 - val_loss: 0.1991 - val_accuracy: 0.9354 - lr: 7.9433e-04\n",
            "Epoch 11/20\n",
            "1875/1875 [==============================] - 9s 5ms/step - loss: 0.2154 - accuracy: 0.9311 - val_loss: 0.2145 - val_accuracy: 0.9333 - lr: 0.0010\n",
            "Epoch 12/20\n",
            "1875/1875 [==============================] - 9s 5ms/step - loss: 0.2072 - accuracy: 0.9344 - val_loss: 0.1834 - val_accuracy: 0.9399 - lr: 0.0013\n",
            "Epoch 13/20\n",
            "1875/1875 [==============================] - 9s 5ms/step - loss: 0.2031 - accuracy: 0.9357 - val_loss: 0.2171 - val_accuracy: 0.9311 - lr: 0.0016\n",
            "Epoch 14/20\n",
            "1875/1875 [==============================] - 9s 5ms/step - loss: 0.1980 - accuracy: 0.9373 - val_loss: 0.1682 - val_accuracy: 0.9441 - lr: 0.0020\n",
            "Epoch 15/20\n",
            "1875/1875 [==============================] - 9s 5ms/step - loss: 0.1974 - accuracy: 0.9364 - val_loss: 0.1890 - val_accuracy: 0.9390 - lr: 0.0025\n",
            "Epoch 16/20\n",
            "1875/1875 [==============================] - 9s 5ms/step - loss: 0.2025 - accuracy: 0.9358 - val_loss: 0.2464 - val_accuracy: 0.9234 - lr: 0.0032\n",
            "Epoch 17/20\n",
            "1875/1875 [==============================] - 8s 4ms/step - loss: 0.2166 - accuracy: 0.9320 - val_loss: 0.1932 - val_accuracy: 0.9415 - lr: 0.0040\n",
            "Epoch 18/20\n",
            "1875/1875 [==============================] - 9s 5ms/step - loss: 0.2292 - accuracy: 0.9291 - val_loss: 0.2349 - val_accuracy: 0.9251 - lr: 0.0050\n",
            "Epoch 19/20\n",
            "1875/1875 [==============================] - 9s 5ms/step - loss: 0.2711 - accuracy: 0.9187 - val_loss: 0.2932 - val_accuracy: 0.9116 - lr: 0.0063\n",
            "Epoch 20/20\n",
            "1875/1875 [==============================] - 8s 4ms/step - loss: 0.2800 - accuracy: 0.9193 - val_loss: 0.2643 - val_accuracy: 0.9224 - lr: 0.0079\n"
          ]
        }
      ]
    },
    {
      "cell_type": "code",
      "source": [
        "lr = history.history[\"lr\"]\n",
        "loss = history.history[\"loss\"]\n",
        "accuracy = history.history[\"accuracy\"]\n",
        "\n",
        "plt.semilogx(lr,loss)"
      ],
      "metadata": {
        "id": "VexIwGq-CgTY",
        "colab": {
          "base_uri": "https://localhost:8080/",
          "height": 452
        },
        "outputId": "cf9e720e-949a-4068-dc85-be14d245abc3"
      },
      "execution_count": null,
      "outputs": [
        {
          "output_type": "execute_result",
          "data": {
            "text/plain": [
              "[<matplotlib.lines.Line2D at 0x7c0d9a1e9c00>]"
            ]
          },
          "metadata": {},
          "execution_count": 18
        },
        {
          "output_type": "display_data",
          "data": {
            "text/plain": [
              "<Figure size 640x480 with 1 Axes>"
            ],
            "image/png": "[encoded data removed]"
          },
          "metadata": {}
        }
      ]
    },
    {
      "cell_type": "code",
      "source": [
        "model = tf.keras.Sequential([\n",
        "\n",
        "        tf.keras.layers.Conv2D(60, (2,2), input_shape=(28,28,1), padding=\"same\"),\n",
        "        tf.keras.layers.MaxPool2D(2,2),\n",
        "        tf.keras.layers.Conv2D(30, (2,2), padding=\"same\"),\n",
        "        tf.keras.layers.MaxPool2D(2,2),\n",
        "        tf.keras.layers.Conv2D(10, (2,2), padding=\"same\"),\n",
        "        tf.keras.layers.MaxPool2D(2,2),\n",
        "        tf.keras.layers.GlobalMaxPool2D(),\n",
        "        tf.keras.layers.Dense(128, activation=\"relu\"),\n",
        "        tf.keras.layers.Dense(32, activation=\"relu\"),\n",
        "        tf.keras.layers.Dense(10, activation=\"softmax\"),\n",
        "\n",
        "])\n",
        "\n",
        "model.summary()\n",
        "\n",
        "\n",
        "optimizer = tf.keras.optimizers.Adam(lr=2e-3)\n",
        "model.compile(optimizer=optimizer, loss=\"sparse_categorical_crossentropy\", metrics=[\"accuracy\"] )\n",
        "\n",
        "history = model.fit(image_generator, epochs=epochs, validation_data=val_generator)\n",
        "\n"
      ],
      "metadata": {
        "colab": {
          "base_uri": "https://localhost:8080/"
        },
        "id": "O34ZoS2fKXnn",
        "outputId": "14fa1e4e-90fb-47c6-bf8f-431f2a771297"
      },
      "execution_count": null,
      "outputs": [
        {
          "output_type": "stream",
          "name": "stdout",
          "text": [
            "Model: \"sequential_7\"\n",
            "_________________________________________________________________\n",
            " Layer (type)                Output Shape              Param #   \n",
            "=================================================================\n",
            " conv2d_21 (Conv2D)          (None, 28, 28, 60)        300       \n",
            "                                                                 \n",
            " max_pooling2d_21 (MaxPoolin  (None, 14, 14, 60)       0         \n",
            " g2D)                                                            \n",
            "                                                                 \n",
            " conv2d_22 (Conv2D)          (None, 14, 14, 30)        7230      \n",
            "                                                                 \n",
            " max_pooling2d_22 (MaxPoolin  (None, 7, 7, 30)         0         \n",
            " g2D)                                                            \n",
            "                                                                 \n",
            " conv2d_23 (Conv2D)          (None, 7, 7, 10)          1210      \n",
            "                                                                 \n",
            " max_pooling2d_23 (MaxPoolin  (None, 3, 3, 10)         0         \n",
            " g2D)                                                            \n",
            "                                                                 \n",
            " global_max_pooling2d_7 (Glo  (None, 10)               0         \n",
            " balMaxPooling2D)                                                \n",
            "                                                                 \n",
            " dense_21 (Dense)            (None, 128)               1408      \n",
            "                                                                 \n",
            " dense_22 (Dense)            (None, 32)                4128      \n",
            "                                                                 \n",
            " dense_23 (Dense)            (None, 10)                330       \n",
            "                                                                 \n",
            "=================================================================\n",
            "Total params: 14,606\n",
            "Trainable params: 14,606\n",
            "Non-trainable params: 0\n",
            "_________________________________________________________________\n"
          ]
        },
        {
          "output_type": "stream",
          "name": "stderr",
          "text": [
            "WARNING:absl:`lr` is deprecated in Keras optimizer, please use `learning_rate` or use the legacy optimizer, e.g.,tf.keras.optimizers.legacy.Adam.\n"
          ]
        },
        {
          "output_type": "stream",
          "name": "stdout",
          "text": [
            "Epoch 1/20\n",
            "1875/1875 [==============================] - 12s 5ms/step - loss: 0.7076 - accuracy: 0.7671 - val_loss: 0.3396 - val_accuracy: 0.8920\n",
            "Epoch 2/20\n",
            "1875/1875 [==============================] - 8s 4ms/step - loss: 0.3401 - accuracy: 0.8941 - val_loss: 0.3080 - val_accuracy: 0.9036\n",
            "Epoch 3/20\n",
            "1875/1875 [==============================] - 9s 5ms/step - loss: 0.2821 - accuracy: 0.9118 - val_loss: 0.2381 - val_accuracy: 0.9272\n",
            "Epoch 4/20\n",
            "1875/1875 [==============================] - 9s 5ms/step - loss: 0.2407 - accuracy: 0.9247 - val_loss: 0.2395 - val_accuracy: 0.9245\n",
            "Epoch 5/20\n",
            "1875/1875 [==============================] - 9s 5ms/step - loss: 0.2160 - accuracy: 0.9317 - val_loss: 0.2052 - val_accuracy: 0.9348\n",
            "Epoch 6/20\n",
            "1875/1875 [==============================] - 9s 5ms/step - loss: 0.2004 - accuracy: 0.9359 - val_loss: 0.2028 - val_accuracy: 0.9370\n",
            "Epoch 7/20\n",
            "1875/1875 [==============================] - 9s 5ms/step - loss: 0.1893 - accuracy: 0.9389 - val_loss: 0.2066 - val_accuracy: 0.9368\n",
            "Epoch 8/20\n",
            "1875/1875 [==============================] - 9s 5ms/step - loss: 0.1795 - accuracy: 0.9420 - val_loss: 0.1757 - val_accuracy: 0.9455\n",
            "Epoch 9/20\n",
            "1875/1875 [==============================] - 9s 5ms/step - loss: 0.1685 - accuracy: 0.9458 - val_loss: 0.2094 - val_accuracy: 0.9364\n",
            "Epoch 10/20\n",
            "1875/1875 [==============================] - 9s 5ms/step - loss: 0.1624 - accuracy: 0.9469 - val_loss: 0.1889 - val_accuracy: 0.9442\n",
            "Epoch 11/20\n",
            "1875/1875 [==============================] - 9s 5ms/step - loss: 0.1537 - accuracy: 0.9496 - val_loss: 0.1622 - val_accuracy: 0.9496\n",
            "Epoch 12/20\n",
            "1875/1875 [==============================] - 9s 5ms/step - loss: 0.1476 - accuracy: 0.9523 - val_loss: 0.1573 - val_accuracy: 0.9531\n",
            "Epoch 13/20\n",
            "1875/1875 [==============================] - 9s 5ms/step - loss: 0.1447 - accuracy: 0.9539 - val_loss: 0.1618 - val_accuracy: 0.9508\n",
            "Epoch 14/20\n",
            "1875/1875 [==============================] - 9s 5ms/step - loss: 0.1402 - accuracy: 0.9551 - val_loss: 0.1810 - val_accuracy: 0.9466\n",
            "Epoch 15/20\n",
            "1875/1875 [==============================] - 9s 5ms/step - loss: 0.1337 - accuracy: 0.9568 - val_loss: 0.1632 - val_accuracy: 0.9514\n",
            "Epoch 16/20\n",
            "1875/1875 [==============================] - 9s 5ms/step - loss: 0.1308 - accuracy: 0.9578 - val_loss: 0.1514 - val_accuracy: 0.9551\n",
            "Epoch 17/20\n",
            "1875/1875 [==============================] - 8s 4ms/step - loss: 0.1279 - accuracy: 0.9581 - val_loss: 0.1602 - val_accuracy: 0.9510\n",
            "Epoch 18/20\n",
            "1875/1875 [==============================] - 10s 5ms/step - loss: 0.1236 - accuracy: 0.9602 - val_loss: 0.1514 - val_accuracy: 0.9566\n",
            "Epoch 19/20\n",
            "1875/1875 [==============================] - 9s 5ms/step - loss: 0.1210 - accuracy: 0.9611 - val_loss: 0.1510 - val_accuracy: 0.9545\n",
            "Epoch 20/20\n",
            "1875/1875 [==============================] - 9s 5ms/step - loss: 0.1172 - accuracy: 0.9623 - val_loss: 0.1635 - val_accuracy: 0.9527\n"
          ]
        }
      ]
    },
    {
      "cell_type": "code",
      "source": [
        "accuracy = history.history[\"accuracy\"]\n",
        "loss = history.history[\"loss\"]\n",
        "val_accuracy = history.history[\"val_accuracy\"]\n",
        "val_loss = history.history[\"val_loss\"]\n",
        "\n",
        "plt.figure()\n",
        "plt.subplot(2,2,1)\n",
        "plt.plot(range(epochs),accuracy)\n",
        "plt.subplot(2,2,2)\n",
        "plt.plot(range(epochs),loss)\n",
        "plt.subplot(2,2,3)\n",
        "plt.plot(range(epochs),val_accuracy)\n",
        "plt.subplot(2,2,4)\n",
        "plt.plot(range(epochs),val_loss)\n",
        "\n",
        "\n",
        "plt.show()\n"
      ],
      "metadata": {
        "id": "sQCP5Xl219CM",
        "colab": {
          "base_uri": "https://localhost:8080/",
          "height": 430
        },
        "outputId": "446b24f2-d1ca-4324-f2b9-da979dc72cb3"
      },
      "execution_count": null,
      "outputs": [
        {
          "output_type": "display_data",
          "data": {
            "text/plain": [
              "<Figure size 640x480 with 4 Axes>"
            ],
            "image/png": "[encoded data removed]"
          },
          "metadata": {}
        }
      ]
    }
  ]
}