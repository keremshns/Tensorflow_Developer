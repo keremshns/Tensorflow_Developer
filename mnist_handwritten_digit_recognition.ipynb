{
  "nbformat": 4,
  "nbformat_minor": 0,
  "metadata": {
    "colab": {
      "provenance": [],
      "gpuType": "T4",
      "authorship_tag": "ABX9TyPt5hQTMmG1ffB4HPq12HX1",
      "include_colab_link": true
    },
    "kernelspec": {
      "name": "python3",
      "display_name": "Python 3"
    },
    "language_info": {
      "name": "python"
    },
    "accelerator": "GPU"
  },
  "cells": [
    {
      "cell_type": "markdown",
      "metadata": {
        "id": "view-in-github",
        "colab_type": "text"
      },
      "source": [
        "<a href=\"https://colab.research.google.com/github/keremshns/tensorflow_developer/blob/main/mnist_handwritten_digit_recognition.ipynb\" target=\"_parent\"><img src=\"https://colab.research.google.com/assets/colab-badge.svg\" alt=\"Open In Colab\"/></a>"
      ]
    },
    {
      "cell_type": "code",
      "source": [
        "import tensorflow as tf\n",
        "import numpy as np\n",
        "import matplotlib.pyplot as plt\n",
        "import os"
      ],
      "metadata": {
        "id": "kvJSsEG1dLG7"
      },
      "execution_count": 1,
      "outputs": []
    },
    {
      "cell_type": "code",
      "source": [
        "#LOAD/SPLIT/INSPECT DATA\n",
        "(x_train, y_train), (x_test,y_test) = tf.keras.datasets.mnist.load_data()\n",
        "\n",
        "num_train_images = len(x_train)\n",
        "img_shape = x_train[0].shape\n",
        "labels_shape = y_train.shape\n",
        "\n",
        "print(\"There are \", num_train_images, \"images.\")\n",
        "print(\"Shape of an image: \",img_shape)\n",
        "print(\"There are \", num_train_images, \"labels.\",labels_shape)"
      ],
      "metadata": {
        "id": "l1KWsH23URun",
        "outputId": "dc849e9a-0db4-4070-ec65-65779dae1bf0",
        "colab": {
          "base_uri": "https://localhost:8080/"
        }
      },
      "execution_count": 3,
      "outputs": [
        {
          "output_type": "stream",
          "name": "stdout",
          "text": [
            "Downloading data from https://storage.googleapis.com/tensorflow/tf-keras-datasets/mnist.npz\n",
            "11490434/11490434 [==============================] - 0s 0us/step\n",
            "60000\n",
            "(28, 28)\n",
            "(60000,)\n"
          ]
        }
      ]
    },
    {
      "cell_type": "code",
      "source": [
        "#FUNCTION FOR NORMALIZATION\n",
        "def normalizer(x_train, y_train, x_test, y_test):\n",
        "  x_train = x_train/255.0\n",
        "  x_test = x_test/255.0\n",
        "\n",
        "  return (x_train, y_train), (x_test,y_test)\n",
        "\n",
        "\n",
        "#FUNCTION FOR INSTANTIATING DATA GENERATOR OBJECTS\n",
        "def create_generators(x_train, y_train, x_test, y_test):\n",
        "\n",
        "  train_generator = tf.keras.preprocessing.image.ImageDataGenerator(rescale=1/255.0,\n",
        "                                                           rotation_range=15,\n",
        "                                                           width_shift_range=0.2,\n",
        "                                                           height_shift_range=0.2,\n",
        "                                                            shear_range=0.2,\n",
        "                                                           zoom_range=0.1)\n",
        "\n",
        "  val_generator = tf.keras.preprocessing.image.ImageDataGenerator(rescale=1/255.0,\n",
        "                                                          rotation_range=15,\n",
        "                                                         width_shift_range=0.2,\n",
        "                                                          height_shift_range=0.2,\n",
        "                                                          shear_range=0.2,\n",
        "                                                         zoom_range=0.1)\n",
        "  return train_generator, val_generator\n",
        "\n",
        "\n",
        "\n"
      ],
      "metadata": {
        "id": "ZcbDP4RTxK6i"
      },
      "execution_count": 10,
      "outputs": []
    },
    {
      "cell_type": "code",
      "source": [
        "#RUN WHEN USING IMAGE DATA GENERATOR\n",
        "#OBTAINING AUGMENTED DATA\n",
        "train_generator, val_generator = create_generators(x_train, y_train, x_test, y_test)\n",
        "\n",
        "x_train = np.expand_dims(x_train, -1)\n",
        "x_test = np.expand_dims(x_test, -1)\n",
        "\n",
        "train_generator = train_generator.flow(x_train,\n",
        "                                       y_train,\n",
        "                                       batch_size=256\n",
        "                                       )\n",
        "\n",
        "val_generator = val_generator.flow(x_test,\n",
        "                                   y_test,\n",
        "                                   batch_size=256,\n",
        "                                   )\n"
      ],
      "metadata": {
        "id": "M6NGaHlfVNqL"
      },
      "execution_count": 17,
      "outputs": []
    },
    {
      "cell_type": "code",
      "source": [
        "#RUN WHEN USING NORMALIZER\n",
        "#JUST FOR PREPROCESSING THE DATA IF YOU DONT WANT TO USE IMAGE GENERATOR\n",
        "(x_train, y_train), (x_test, y_test) = normalizer(x_train, y_train, x_test, y_test)"
      ],
      "metadata": {
        "id": "DGHsF3V6NRVQ"
      },
      "execution_count": null,
      "outputs": []
    },
    {
      "cell_type": "code",
      "source": [
        "#HYPERPARAMETERS\n",
        "epochs = 50"
      ],
      "metadata": {
        "id": "5XVX_5sM1hM0"
      },
      "execution_count": 21,
      "outputs": []
    },
    {
      "cell_type": "code",
      "source": [
        "model = tf.keras.Sequential([\n",
        "\n",
        "        tf.keras.layers.Conv2D(64, (2,2), input_shape=(28,28,1), padding=\"same\"),\n",
        "        tf.keras.layers.MaxPool2D(2,2),\n",
        "        tf.keras.layers.Conv2D(32, (2,2), padding=\"same\"),\n",
        "        tf.keras.layers.MaxPool2D(2,2),\n",
        "        tf.keras.layers.Conv2D(16, (2,2), padding=\"same\"),\n",
        "        tf.keras.layers.MaxPool2D(2,2),\n",
        "        tf.keras.layers.GlobalMaxPool2D(),\n",
        "        tf.keras.layers.Dense(128, activation=\"relu\"),\n",
        "        tf.keras.layers.Dense(32, activation=\"relu\"),\n",
        "        tf.keras.layers.Dense(10, activation=\"softmax\"),\n",
        "\n",
        "])\n",
        "\n",
        "model.summary()\n",
        "\n",
        "callback = tf.keras.callbacks.LearningRateScheduler(lambda epochs: 1e-4 * 10**(epochs/10))\n",
        "\n",
        "optimizer = tf.keras.optimizers.Adam(lr=1e-4)\n",
        "model.compile(optimizer=optimizer, loss=\"sparse_categorical_crossentropy\", metrics=[\"accuracy\"] )\n",
        "\n",
        "history = model.fit(train_generator, epochs=epochs, validation_data=val_generator, callbacks=[callback])\n",
        "\n"
      ],
      "metadata": {
        "colab": {
          "base_uri": "https://localhost:8080/"
        },
        "id": "lNA2ml6pzG5w",
        "outputId": "cc9248f0-0da7-4e80-eb99-a321d0a5cc98"
      },
      "execution_count": 22,
      "outputs": [
        {
          "output_type": "stream",
          "name": "stdout",
          "text": [
            "Model: \"sequential_2\"\n",
            "_________________________________________________________________\n",
            " Layer (type)                Output Shape              Param #   \n",
            "=================================================================\n",
            " conv2d_6 (Conv2D)           (None, 28, 28, 60)        300       \n",
            "                                                                 \n",
            " max_pooling2d_6 (MaxPooling  (None, 14, 14, 60)       0         \n",
            " 2D)                                                             \n",
            "                                                                 \n",
            " conv2d_7 (Conv2D)           (None, 14, 14, 30)        7230      \n",
            "                                                                 \n",
            " max_pooling2d_7 (MaxPooling  (None, 7, 7, 30)         0         \n",
            " 2D)                                                             \n",
            "                                                                 \n",
            " conv2d_8 (Conv2D)           (None, 7, 7, 10)          1210      \n",
            "                                                                 \n",
            " max_pooling2d_8 (MaxPooling  (None, 3, 3, 10)         0         \n",
            " 2D)                                                             \n",
            "                                                                 \n",
            " global_max_pooling2d_2 (Glo  (None, 10)               0         \n",
            " balMaxPooling2D)                                                \n",
            "                                                                 \n",
            " dense_6 (Dense)             (None, 128)               1408      \n",
            "                                                                 \n",
            " dense_7 (Dense)             (None, 32)                4128      \n",
            "                                                                 \n",
            " dense_8 (Dense)             (None, 10)                330       \n",
            "                                                                 \n",
            "=================================================================\n",
            "Total params: 14,606\n",
            "Trainable params: 14,606\n",
            "Non-trainable params: 0\n",
            "_________________________________________________________________\n"
          ]
        },
        {
          "output_type": "stream",
          "name": "stderr",
          "text": [
            "WARNING:absl:`lr` is deprecated in Keras optimizer, please use `learning_rate` or use the legacy optimizer, e.g.,tf.keras.optimizers.legacy.Adam.\n"
          ]
        },
        {
          "output_type": "stream",
          "name": "stdout",
          "text": [
            "Epoch 1/50\n",
            "235/235 [==============================] - 24s 93ms/step - loss: 2.2753 - accuracy: 0.1671 - val_loss: 2.1876 - val_accuracy: 0.2265 - lr: 1.0000e-04\n",
            "Epoch 2/50\n",
            "235/235 [==============================] - 23s 96ms/step - loss: 1.9221 - accuracy: 0.3228 - val_loss: 1.6889 - val_accuracy: 0.4163 - lr: 1.2589e-04\n",
            "Epoch 3/50\n",
            "235/235 [==============================] - 21s 91ms/step - loss: 1.4879 - accuracy: 0.4928 - val_loss: 1.2973 - val_accuracy: 0.5573 - lr: 1.5849e-04\n",
            "Epoch 4/50\n",
            "235/235 [==============================] - 22s 94ms/step - loss: 1.1854 - accuracy: 0.5921 - val_loss: 1.0488 - val_accuracy: 0.6313 - lr: 1.9953e-04\n",
            "Epoch 5/50\n",
            "235/235 [==============================] - 25s 107ms/step - loss: 0.9954 - accuracy: 0.6573 - val_loss: 0.8919 - val_accuracy: 0.6947 - lr: 2.5119e-04\n",
            "Epoch 6/50\n",
            "235/235 [==============================] - 25s 105ms/step - loss: 0.8639 - accuracy: 0.7073 - val_loss: 0.7909 - val_accuracy: 0.7294 - lr: 3.1623e-04\n",
            "Epoch 7/50\n",
            "235/235 [==============================] - 22s 95ms/step - loss: 0.7668 - accuracy: 0.7440 - val_loss: 0.7037 - val_accuracy: 0.7685 - lr: 3.9811e-04\n",
            "Epoch 8/50\n",
            "235/235 [==============================] - 27s 115ms/step - loss: 0.6888 - accuracy: 0.7718 - val_loss: 0.6301 - val_accuracy: 0.7930 - lr: 5.0119e-04\n",
            "Epoch 9/50\n",
            "235/235 [==============================] - 22s 95ms/step - loss: 0.6169 - accuracy: 0.7961 - val_loss: 0.5611 - val_accuracy: 0.8175 - lr: 6.3096e-04\n",
            "Epoch 10/50\n",
            "235/235 [==============================] - 24s 101ms/step - loss: 0.5562 - accuracy: 0.8184 - val_loss: 0.5069 - val_accuracy: 0.8361 - lr: 7.9433e-04\n",
            "Epoch 11/50\n",
            "235/235 [==============================] - 30s 128ms/step - loss: 0.5065 - accuracy: 0.8372 - val_loss: 0.4802 - val_accuracy: 0.8462 - lr: 0.0010\n",
            "Epoch 12/50\n",
            "235/235 [==============================] - 22s 96ms/step - loss: 0.4675 - accuracy: 0.8493 - val_loss: 0.4385 - val_accuracy: 0.8584 - lr: 0.0013\n",
            "Epoch 13/50\n",
            "235/235 [==============================] - 23s 98ms/step - loss: 0.4269 - accuracy: 0.8626 - val_loss: 0.3823 - val_accuracy: 0.8767 - lr: 0.0016\n",
            "Epoch 14/50\n",
            "235/235 [==============================] - 30s 127ms/step - loss: 0.4094 - accuracy: 0.8691 - val_loss: 0.3781 - val_accuracy: 0.8783 - lr: 0.0020\n",
            "Epoch 15/50\n",
            "235/235 [==============================] - 31s 132ms/step - loss: 0.3822 - accuracy: 0.8778 - val_loss: 0.3557 - val_accuracy: 0.8860 - lr: 0.0025\n",
            "Epoch 16/50\n",
            "235/235 [==============================] - 25s 108ms/step - loss: 0.3638 - accuracy: 0.8839 - val_loss: 0.3216 - val_accuracy: 0.8946 - lr: 0.0032\n",
            "Epoch 17/50\n",
            "235/235 [==============================] - 28s 119ms/step - loss: 0.3453 - accuracy: 0.8902 - val_loss: 0.2860 - val_accuracy: 0.9066 - lr: 0.0040\n",
            "Epoch 18/50\n",
            "235/235 [==============================] - 25s 105ms/step - loss: 0.3213 - accuracy: 0.8978 - val_loss: 0.2746 - val_accuracy: 0.9136 - lr: 0.0050\n",
            "Epoch 19/50\n",
            "235/235 [==============================] - 25s 105ms/step - loss: 0.3014 - accuracy: 0.9034 - val_loss: 0.3120 - val_accuracy: 0.9015 - lr: 0.0063\n",
            "Epoch 20/50\n",
            "235/235 [==============================] - 34s 143ms/step - loss: 0.2848 - accuracy: 0.9077 - val_loss: 0.2792 - val_accuracy: 0.9115 - lr: 0.0079\n",
            "Epoch 21/50\n",
            "235/235 [==============================] - 28s 121ms/step - loss: 0.2688 - accuracy: 0.9143 - val_loss: 0.2778 - val_accuracy: 0.9102 - lr: 0.0100\n",
            "Epoch 22/50\n",
            "235/235 [==============================] - 23s 97ms/step - loss: 0.2829 - accuracy: 0.9088 - val_loss: 0.2702 - val_accuracy: 0.9140 - lr: 0.0126\n",
            "Epoch 23/50\n",
            "235/235 [==============================] - 24s 102ms/step - loss: 0.3033 - accuracy: 0.9036 - val_loss: 0.2725 - val_accuracy: 0.9141 - lr: 0.0158\n",
            "Epoch 24/50\n",
            "235/235 [==============================] - 26s 111ms/step - loss: 0.3092 - accuracy: 0.9031 - val_loss: 0.2486 - val_accuracy: 0.9210 - lr: 0.0200\n",
            "Epoch 25/50\n",
            "235/235 [==============================] - 28s 120ms/step - loss: 0.3807 - accuracy: 0.8823 - val_loss: 0.3303 - val_accuracy: 0.9010 - lr: 0.0251\n",
            "Epoch 26/50\n",
            "235/235 [==============================] - 30s 129ms/step - loss: 0.4101 - accuracy: 0.8783 - val_loss: 0.3578 - val_accuracy: 0.8928 - lr: 0.0316\n",
            "Epoch 27/50\n",
            "235/235 [==============================] - 24s 102ms/step - loss: 2.1993 - accuracy: 0.2772 - val_loss: 2.3041 - val_accuracy: 0.1135 - lr: 0.0398\n",
            "Epoch 28/50\n",
            "235/235 [==============================] - 23s 97ms/step - loss: 2.3038 - accuracy: 0.1070 - val_loss: 2.3042 - val_accuracy: 0.1135 - lr: 0.0501\n",
            "Epoch 29/50\n",
            "235/235 [==============================] - 22s 94ms/step - loss: 2.3041 - accuracy: 0.1068 - val_loss: 2.3045 - val_accuracy: 0.1135 - lr: 0.0631\n",
            "Epoch 30/50\n",
            "235/235 [==============================] - 23s 99ms/step - loss: 2.3047 - accuracy: 0.1060 - val_loss: 2.3039 - val_accuracy: 0.0974 - lr: 0.0794\n",
            "Epoch 31/50\n",
            "235/235 [==============================] - 24s 102ms/step - loss: 2.3054 - accuracy: 0.1043 - val_loss: 2.3052 - val_accuracy: 0.1009 - lr: 0.1000\n",
            "Epoch 32/50\n",
            "235/235 [==============================] - 24s 103ms/step - loss: 2.3072 - accuracy: 0.1059 - val_loss: 2.3053 - val_accuracy: 0.1028 - lr: 0.1259\n",
            "Epoch 33/50\n",
            "235/235 [==============================] - 22s 94ms/step - loss: 2.3082 - accuracy: 0.1056 - val_loss: 2.3154 - val_accuracy: 0.1010 - lr: 0.1585\n",
            "Epoch 34/50\n",
            "235/235 [==============================] - 22s 92ms/step - loss: 2.3091 - accuracy: 0.1038 - val_loss: 2.3152 - val_accuracy: 0.0980 - lr: 0.1995\n",
            "Epoch 35/50\n",
            "235/235 [==============================] - 23s 96ms/step - loss: 2.3116 - accuracy: 0.1078 - val_loss: 2.3076 - val_accuracy: 0.0980 - lr: 0.2512\n",
            "Epoch 36/50\n",
            "235/235 [==============================] - 23s 96ms/step - loss: 2.3144 - accuracy: 0.1032 - val_loss: 2.3147 - val_accuracy: 0.1010 - lr: 0.3162\n",
            "Epoch 37/50\n",
            "235/235 [==============================] - 21s 91ms/step - loss: 2.3192 - accuracy: 0.1039 - val_loss: 2.3229 - val_accuracy: 0.1032 - lr: 0.3981\n",
            "Epoch 38/50\n",
            "235/235 [==============================] - 22s 95ms/step - loss: 2.3254 - accuracy: 0.1022 - val_loss: 2.3154 - val_accuracy: 0.0982 - lr: 0.5012\n",
            "Epoch 39/50\n",
            "235/235 [==============================] - 23s 97ms/step - loss: 2.3241 - accuracy: 0.1039 - val_loss: 2.3259 - val_accuracy: 0.1028 - lr: 0.6310\n",
            "Epoch 40/50\n",
            "235/235 [==============================] - 23s 97ms/step - loss: 2.3296 - accuracy: 0.1013 - val_loss: 2.3283 - val_accuracy: 0.1135 - lr: 0.7943\n",
            "Epoch 41/50\n",
            "235/235 [==============================] - 23s 97ms/step - loss: 2.3380 - accuracy: 0.1019 - val_loss: 2.3160 - val_accuracy: 0.0980 - lr: 1.0000\n",
            "Epoch 42/50\n",
            "235/235 [==============================] - 22s 94ms/step - loss: 2.3477 - accuracy: 0.1013 - val_loss: 2.3601 - val_accuracy: 0.0974 - lr: 1.2589\n",
            "Epoch 43/50\n",
            "235/235 [==============================] - 25s 107ms/step - loss: 2.3542 - accuracy: 0.1007 - val_loss: 2.3446 - val_accuracy: 0.0980 - lr: 1.5849\n",
            "Epoch 44/50\n",
            "235/235 [==============================] - 23s 96ms/step - loss: 2.3651 - accuracy: 0.1014 - val_loss: 2.3787 - val_accuracy: 0.1135 - lr: 1.9953\n",
            "Epoch 45/50\n",
            "235/235 [==============================] - 22s 96ms/step - loss: 2.3760 - accuracy: 0.1006 - val_loss: 2.3641 - val_accuracy: 0.0958 - lr: 2.5119\n",
            "Epoch 46/50\n",
            "235/235 [==============================] - 23s 97ms/step - loss: 2.4083 - accuracy: 0.1030 - val_loss: 2.4158 - val_accuracy: 0.1010 - lr: 3.1623\n",
            "Epoch 47/50\n",
            "235/235 [==============================] - 22s 94ms/step - loss: 2.4363 - accuracy: 0.1013 - val_loss: 2.5787 - val_accuracy: 0.1009 - lr: 3.9811\n",
            "Epoch 48/50\n",
            "235/235 [==============================] - 23s 96ms/step - loss: 2.4685 - accuracy: 0.1020 - val_loss: 2.4272 - val_accuracy: 0.0958 - lr: 5.0119\n",
            "Epoch 49/50\n",
            "235/235 [==============================] - 24s 102ms/step - loss: 2.8432 - accuracy: 0.0972 - val_loss: 2.4205 - val_accuracy: 0.1135 - lr: 6.3096\n",
            "Epoch 50/50\n",
            "235/235 [==============================] - 22s 94ms/step - loss: 2.6506 - accuracy: 0.1002 - val_loss: 2.5276 - val_accuracy: 0.0892 - lr: 7.9433\n"
          ]
        }
      ]
    },
    {
      "cell_type": "code",
      "source": [
        "lr = history.history[\"lr\"]\n",
        "loss = history.history[\"loss\"]\n",
        "accuracy = history.history[\"accuracy\"]\n",
        "\n",
        "plt.semilogx(lr,loss)"
      ],
      "metadata": {
        "id": "VexIwGq-CgTY",
        "colab": {
          "base_uri": "https://localhost:8080/",
          "height": 452
        },
        "outputId": "efb3a12d-6c4c-449f-d0d3-17e63f7169d1"
      },
      "execution_count": 23,
      "outputs": [
        {
          "output_type": "execute_result",
          "data": {
            "text/plain": [
              "[<matplotlib.lines.Line2D at 0x790a6504b220>]"
            ]
          },
          "metadata": {},
          "execution_count": 23
        },
        {
          "output_type": "display_data",
          "data": {
            "text/plain": [
              "<Figure size 640x480 with 1 Axes>"
            ],
            "image/png": "[encoded data removed]"
          },
          "metadata": {}
        }
      ]
    },
    {
      "cell_type": "code",
      "source": [
        "model = tf.keras.Sequential([\n",
        "\n",
        "        tf.keras.layers.Conv2D(60, (2,2), input_shape=(28,28,1), padding=\"same\"),\n",
        "        tf.keras.layers.MaxPool2D(2,2),\n",
        "        tf.keras.layers.Conv2D(30, (2,2), padding=\"same\"),\n",
        "        tf.keras.layers.MaxPool2D(2,2),\n",
        "        tf.keras.layers.Conv2D(10, (2,2), padding=\"same\"),\n",
        "        tf.keras.layers.MaxPool2D(2,2),\n",
        "        tf.keras.layers.GlobalMaxPool2D(),\n",
        "        tf.keras.layers.Dense(128, activation=\"relu\"),\n",
        "        tf.keras.layers.Dense(32, activation=\"relu\"),\n",
        "        tf.keras.layers.Dense(10, activation=\"softmax\"),\n",
        "\n",
        "])\n",
        "\n",
        "model.summary()\n",
        "\n",
        "\n",
        "optimizer = tf.keras.optimizers.Adam(lr=2e-3)\n",
        "model.compile(optimizer=optimizer, loss=\"sparse_categorical_crossentropy\", metrics=[\"accuracy\"] )\n",
        "\n",
        "history = model.fit(train_generator, epochs=epochs, validation_data=val_generator)\n",
        "\n"
      ],
      "metadata": {
        "colab": {
          "base_uri": "https://localhost:8080/"
        },
        "id": "O34ZoS2fKXnn",
        "outputId": "14fa1e4e-90fb-47c6-bf8f-431f2a771297"
      },
      "execution_count": null,
      "outputs": [
        {
          "output_type": "stream",
          "name": "stdout",
          "text": [
            "Model: \"sequential_7\"\n",
            "_________________________________________________________________\n",
            " Layer (type)                Output Shape              Param #   \n",
            "=================================================================\n",
            " conv2d_21 (Conv2D)          (None, 28, 28, 60)        300       \n",
            "                                                                 \n",
            " max_pooling2d_21 (MaxPoolin  (None, 14, 14, 60)       0         \n",
            " g2D)                                                            \n",
            "                                                                 \n",
            " conv2d_22 (Conv2D)          (None, 14, 14, 30)        7230      \n",
            "                                                                 \n",
            " max_pooling2d_22 (MaxPoolin  (None, 7, 7, 30)         0         \n",
            " g2D)                                                            \n",
            "                                                                 \n",
            " conv2d_23 (Conv2D)          (None, 7, 7, 10)          1210      \n",
            "                                                                 \n",
            " max_pooling2d_23 (MaxPoolin  (None, 3, 3, 10)         0         \n",
            " g2D)                                                            \n",
            "                                                                 \n",
            " global_max_pooling2d_7 (Glo  (None, 10)               0         \n",
            " balMaxPooling2D)                                                \n",
            "                                                                 \n",
            " dense_21 (Dense)            (None, 128)               1408      \n",
            "                                                                 \n",
            " dense_22 (Dense)            (None, 32)                4128      \n",
            "                                                                 \n",
            " dense_23 (Dense)            (None, 10)                330       \n",
            "                                                                 \n",
            "=================================================================\n",
            "Total params: 14,606\n",
            "Trainable params: 14,606\n",
            "Non-trainable params: 0\n",
            "_________________________________________________________________\n"
          ]
        },
        {
          "output_type": "stream",
          "name": "stderr",
          "text": [
            "WARNING:absl:`lr` is deprecated in Keras optimizer, please use `learning_rate` or use the legacy optimizer, e.g.,tf.keras.optimizers.legacy.Adam.\n"
          ]
        },
        {
          "output_type": "stream",
          "name": "stdout",
          "text": [
            "Epoch 1/20\n",
            "1875/1875 [==============================] - 12s 5ms/step - loss: 0.7076 - accuracy: 0.7671 - val_loss: 0.3396 - val_accuracy: 0.8920\n",
            "Epoch 2/20\n",
            "1875/1875 [==============================] - 8s 4ms/step - loss: 0.3401 - accuracy: 0.8941 - val_loss: 0.3080 - val_accuracy: 0.9036\n",
            "Epoch 3/20\n",
            "1875/1875 [==============================] - 9s 5ms/step - loss: 0.2821 - accuracy: 0.9118 - val_loss: 0.2381 - val_accuracy: 0.9272\n",
            "Epoch 4/20\n",
            "1875/1875 [==============================] - 9s 5ms/step - loss: 0.2407 - accuracy: 0.9247 - val_loss: 0.2395 - val_accuracy: 0.9245\n",
            "Epoch 5/20\n",
            "1875/1875 [==============================] - 9s 5ms/step - loss: 0.2160 - accuracy: 0.9317 - val_loss: 0.2052 - val_accuracy: 0.9348\n",
            "Epoch 6/20\n",
            "1875/1875 [==============================] - 9s 5ms/step - loss: 0.2004 - accuracy: 0.9359 - val_loss: 0.2028 - val_accuracy: 0.9370\n",
            "Epoch 7/20\n",
            "1875/1875 [==============================] - 9s 5ms/step - loss: 0.1893 - accuracy: 0.9389 - val_loss: 0.2066 - val_accuracy: 0.9368\n",
            "Epoch 8/20\n",
            "1875/1875 [==============================] - 9s 5ms/step - loss: 0.1795 - accuracy: 0.9420 - val_loss: 0.1757 - val_accuracy: 0.9455\n",
            "Epoch 9/20\n",
            "1875/1875 [==============================] - 9s 5ms/step - loss: 0.1685 - accuracy: 0.9458 - val_loss: 0.2094 - val_accuracy: 0.9364\n",
            "Epoch 10/20\n",
            "1875/1875 [==============================] - 9s 5ms/step - loss: 0.1624 - accuracy: 0.9469 - val_loss: 0.1889 - val_accuracy: 0.9442\n",
            "Epoch 11/20\n",
            "1875/1875 [==============================] - 9s 5ms/step - loss: 0.1537 - accuracy: 0.9496 - val_loss: 0.1622 - val_accuracy: 0.9496\n",
            "Epoch 12/20\n",
            "1875/1875 [==============================] - 9s 5ms/step - loss: 0.1476 - accuracy: 0.9523 - val_loss: 0.1573 - val_accuracy: 0.9531\n",
            "Epoch 13/20\n",
            "1875/1875 [==============================] - 9s 5ms/step - loss: 0.1447 - accuracy: 0.9539 - val_loss: 0.1618 - val_accuracy: 0.9508\n",
            "Epoch 14/20\n",
            "1875/1875 [==============================] - 9s 5ms/step - loss: 0.1402 - accuracy: 0.9551 - val_loss: 0.1810 - val_accuracy: 0.9466\n",
            "Epoch 15/20\n",
            "1875/1875 [==============================] - 9s 5ms/step - loss: 0.1337 - accuracy: 0.9568 - val_loss: 0.1632 - val_accuracy: 0.9514\n",
            "Epoch 16/20\n",
            "1875/1875 [==============================] - 9s 5ms/step - loss: 0.1308 - accuracy: 0.9578 - val_loss: 0.1514 - val_accuracy: 0.9551\n",
            "Epoch 17/20\n",
            "1875/1875 [==============================] - 8s 4ms/step - loss: 0.1279 - accuracy: 0.9581 - val_loss: 0.1602 - val_accuracy: 0.9510\n",
            "Epoch 18/20\n",
            "1875/1875 [==============================] - 10s 5ms/step - loss: 0.1236 - accuracy: 0.9602 - val_loss: 0.1514 - val_accuracy: 0.9566\n",
            "Epoch 19/20\n",
            "1875/1875 [==============================] - 9s 5ms/step - loss: 0.1210 - accuracy: 0.9611 - val_loss: 0.1510 - val_accuracy: 0.9545\n",
            "Epoch 20/20\n",
            "1875/1875 [==============================] - 9s 5ms/step - loss: 0.1172 - accuracy: 0.9623 - val_loss: 0.1635 - val_accuracy: 0.9527\n"
          ]
        }
      ]
    },
    {
      "cell_type": "code",
      "source": [
        "accuracy = history.history[\"accuracy\"]\n",
        "loss = history.history[\"loss\"]\n",
        "val_accuracy = history.history[\"val_accuracy\"]\n",
        "val_loss = history.history[\"val_loss\"]\n",
        "\n",
        "plt.figure()\n",
        "plt.subplot(2,2,1)\n",
        "plt.plot(range(epochs),accuracy)\n",
        "plt.subplot(2,2,2)\n",
        "plt.plot(range(epochs),loss)\n",
        "plt.subplot(2,2,3)\n",
        "plt.plot(range(epochs),val_accuracy)\n",
        "plt.subplot(2,2,4)\n",
        "plt.plot(range(epochs),val_loss)\n",
        "\n",
        "\n",
        "plt.show()\n"
      ],
      "metadata": {
        "id": "sQCP5Xl219CM",
        "colab": {
          "base_uri": "https://localhost:8080/",
          "height": 430
        },
        "outputId": "446b24f2-d1ca-4324-f2b9-da979dc72cb3"
      },
      "execution_count": null,
      "outputs": [
        {
          "output_type": "display_data",
          "data": {
            "text/plain": [
              "<Figure size 640x480 with 4 Axes>"
            ],
            "image/png": "[encoded data removed]"
          },
          "metadata": {}
        }
      ]
    }
  ]
}