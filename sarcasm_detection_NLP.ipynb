{
  "nbformat": 4,
  "nbformat_minor": 0,
  "metadata": {
    "colab": {
      "provenance": [],
      "authorship_tag": "ABX9TyNOmBsVVtnv0yK0WFsJZzZK",
      "include_colab_link": true
    },
    "kernelspec": {
      "name": "python3",
      "display_name": "Python 3"
    },
    "language_info": {
      "name": "python"
    }
  },
  "cells": [
    {
      "cell_type": "markdown",
      "metadata": {
        "id": "view-in-github",
        "colab_type": "text"
      },
      "source": [
        "<a href=\"https://colab.research.google.com/github/keremshns/tensorflow_developer/blob/main/sarcasm_detection_NLP.ipynb\" target=\"_parent\"><img src=\"https://colab.research.google.com/assets/colab-badge.svg\" alt=\"Open In Colab\"/></a>"
      ]
    },
    {
      "cell_type": "code",
      "execution_count": 14,
      "metadata": {
        "colab": {
          "base_uri": "https://localhost:8080/"
        },
        "id": "_Txf-ejh67UL",
        "outputId": "14476d54-bcd5-4208-9d31-1674496becba"
      },
      "outputs": [
        {
          "output_type": "stream",
          "name": "stdout",
          "text": [
            "/usr/local/lib/python3.10/dist-packages/gdown/cli.py:121: FutureWarning: Option `--id` was deprecated in version 4.3.1 and will be removed in 5.0. You don't need to pass it anymore to use a file ID.\n",
            "  warnings.warn(\n",
            "Downloading...\n",
            "From: https://drive.google.com/uc?id=1xRU3xY5-tkiPGvlz5xBJ18_pHWSRzI4v\n",
            "To: /content/sarcasm.json\n",
            "100% 5.64M/5.64M [00:00<00:00, 177MB/s]\n",
            "26709\n"
          ]
        }
      ],
      "source": [
        "import tensorflow as tf\n",
        "import numpy as np\n",
        "import json\n",
        "from tensorflow.keras.preprocessing.text import Tokenizer\n",
        "from tensorflow.keras.preprocessing.sequence import pad_sequences\n",
        "\n",
        "!gdown --id 1xRU3xY5-tkiPGvlz5xBJ18_pHWSRzI4v\n",
        "\n",
        "vocab_size = 1000\n",
        "embedding_dim = 16\n",
        "trunc_type = \"post\"\n",
        "padding = \"post\"\n",
        "oov_token = \"<OOV>\"\n",
        "\n",
        "with open(\"./sarcasm.json\", 'r') as f:\n",
        "  data = json.load(f)\n",
        "\n",
        "labels = []\n",
        "headlines = []\n",
        "\n",
        "for row in data:\n",
        "  labels.append(row[\"is_sarcastic\"])\n",
        "  headlines.append(row[\"headline\"])\n",
        "\n",
        "print(len(labels))\n",
        "\n",
        "train_l = labels[:20000]\n",
        "test_l = labels[20000:]\n",
        "\n",
        "train_sentences = headlines[:20000]\n",
        "test_sentences = headlines[20000:]\n",
        "\n",
        "\n",
        "\n",
        "\n"
      ]
    },
    {
      "cell_type": "code",
      "source": [
        "tokenizer = Tokenizer(vocab_size, oov_token=oov_token)\n",
        "tokenizer.fit_on_texts(train_sentences)\n",
        "train_seq = tokenizer.texts_to_sequences(train_sentences)\n",
        "pad_train_seq = pad_sequences(train_seq, maxlen=maxlen, truncating=trunc_type, padding=padding)\n",
        "test_seq = tokenizer.texts_to_sequences(test_sentences)\n",
        "pad_test_seq = pad_sequences(test_seq, maxlen=maxlen, truncating=trunc_type, padding=padding)\n",
        "\n",
        "pad_train_seq = np.array(pad_train_seq)\n",
        "train_l = np.array(train_l)\n",
        "pad_test_seq = np.array(pad_test_seq)\n",
        "test_l = np.array(test_l)"
      ],
      "metadata": {
        "id": "tFrcw6aBWqUO"
      },
      "execution_count": 15,
      "outputs": []
    },
    {
      "cell_type": "code",
      "source": [
        "maxlen = 256\n",
        "\"Model with CONV and MaxPool\"\n",
        "model = tf.keras.Sequential([\n",
        "    tf.keras.layers.Embedding(vocab_size, embedding_dim, input_length=maxlen),\n",
        "    tf.keras.layers.Conv1D(128, 5, activation='relu'),\n",
        "    tf.keras.layers.GlobalMaxPooling1D(),\n",
        "    tf.keras.layers.Dense(32, activation=\"relu\"),\n",
        "    tf.keras.layers.Dense(1, activation=\"sigmoid\")\n",
        "])\n",
        "\n",
        "model.compile(optimizer=\"adam\", loss=\"binary_crossentropy\", metrics=[\"accuracy\"])\n",
        "model.fit(pad_train_seq, train_l, batch_size=32, epochs=20, validation_data=(pad_test_seq, test_l))\n"
      ],
      "metadata": {
        "colab": {
          "base_uri": "https://localhost:8080/"
        },
        "id": "cwmgpRcoZPUF",
        "outputId": "b0d4249a-75f2-4774-88ad-ba141b8ce16c"
      },
      "execution_count": 16,
      "outputs": [
        {
          "output_type": "stream",
          "name": "stdout",
          "text": [
            "Epoch 1/20\n",
            "625/625 [==============================] - 9s 14ms/step - loss: 0.4759 - accuracy: 0.7534 - val_loss: 0.4079 - val_accuracy: 0.8123\n",
            "Epoch 2/20\n",
            "625/625 [==============================] - 6s 9ms/step - loss: 0.3583 - accuracy: 0.8385 - val_loss: 0.3877 - val_accuracy: 0.8232\n",
            "Epoch 3/20\n",
            "625/625 [==============================] - 6s 10ms/step - loss: 0.3214 - accuracy: 0.8576 - val_loss: 0.3994 - val_accuracy: 0.8196\n",
            "Epoch 4/20\n",
            "625/625 [==============================] - 6s 9ms/step - loss: 0.2865 - accuracy: 0.8761 - val_loss: 0.4089 - val_accuracy: 0.8231\n",
            "Epoch 5/20\n",
            "625/625 [==============================] - 6s 10ms/step - loss: 0.2574 - accuracy: 0.8910 - val_loss: 0.4197 - val_accuracy: 0.8189\n",
            "Epoch 6/20\n",
            "625/625 [==============================] - 6s 9ms/step - loss: 0.2230 - accuracy: 0.9086 - val_loss: 0.4622 - val_accuracy: 0.8129\n",
            "Epoch 7/20\n",
            "625/625 [==============================] - 6s 10ms/step - loss: 0.1910 - accuracy: 0.9237 - val_loss: 0.5197 - val_accuracy: 0.8123\n",
            "Epoch 8/20\n",
            "625/625 [==============================] - 6s 9ms/step - loss: 0.1595 - accuracy: 0.9384 - val_loss: 0.5616 - val_accuracy: 0.8094\n",
            "Epoch 9/20\n",
            "625/625 [==============================] - 6s 10ms/step - loss: 0.1317 - accuracy: 0.9509 - val_loss: 0.6936 - val_accuracy: 0.7992\n",
            "Epoch 10/20\n",
            "625/625 [==============================] - 6s 9ms/step - loss: 0.1066 - accuracy: 0.9619 - val_loss: 0.7158 - val_accuracy: 0.7930\n",
            "Epoch 11/20\n",
            "625/625 [==============================] - 6s 10ms/step - loss: 0.0866 - accuracy: 0.9697 - val_loss: 0.8322 - val_accuracy: 0.7992\n",
            "Epoch 12/20\n",
            "625/625 [==============================] - 6s 9ms/step - loss: 0.0738 - accuracy: 0.9743 - val_loss: 0.8942 - val_accuracy: 0.7943\n",
            "Epoch 13/20\n",
            "625/625 [==============================] - 6s 10ms/step - loss: 0.0611 - accuracy: 0.9792 - val_loss: 1.0073 - val_accuracy: 0.7991\n",
            "Epoch 14/20\n",
            "625/625 [==============================] - 6s 9ms/step - loss: 0.0554 - accuracy: 0.9817 - val_loss: 1.0774 - val_accuracy: 0.7971\n",
            "Epoch 15/20\n",
            "625/625 [==============================] - 6s 10ms/step - loss: 0.0483 - accuracy: 0.9837 - val_loss: 1.2180 - val_accuracy: 0.7992\n",
            "Epoch 16/20\n",
            "625/625 [==============================] - 6s 9ms/step - loss: 0.0417 - accuracy: 0.9859 - val_loss: 1.2607 - val_accuracy: 0.7894\n",
            "Epoch 17/20\n",
            "625/625 [==============================] - 6s 10ms/step - loss: 0.0413 - accuracy: 0.9854 - val_loss: 1.2655 - val_accuracy: 0.7927\n",
            "Epoch 18/20\n",
            "625/625 [==============================] - 6s 9ms/step - loss: 0.0395 - accuracy: 0.9851 - val_loss: 1.3729 - val_accuracy: 0.7906\n",
            "Epoch 19/20\n",
            "625/625 [==============================] - 6s 10ms/step - loss: 0.0424 - accuracy: 0.9849 - val_loss: 1.4892 - val_accuracy: 0.7952\n",
            "Epoch 20/20\n",
            "625/625 [==============================] - 6s 9ms/step - loss: 0.0375 - accuracy: 0.9855 - val_loss: 1.4082 - val_accuracy: 0.7906\n"
          ]
        },
        {
          "output_type": "execute_result",
          "data": {
            "text/plain": [
              "<keras.callbacks.History at 0x7d12ff486290>"
            ]
          },
          "metadata": {},
          "execution_count": 16
        }
      ]
    },
    {
      "cell_type": "code",
      "source": [
        "maxlen = 128\n",
        "\"\"\"Model with LSTM\n",
        "\"\"\"\n",
        "model = tf.keras.Sequential([\n",
        "    tf.keras.layers.Embedding(vocab_size, embedding_dim, input_length=maxlen),\n",
        "    tf.keras.layers.Bidirectional(tf.keras.layers.LSTM(32)),\n",
        "    tf.keras.layers.Dense(24, activation=\"relu\"),\n",
        "    tf.keras.layers.Dense(1, activation=\"sigmoid\")\n",
        "])\n",
        "\n",
        "model.compile(optimizer=\"adam\", loss=\"binary_crossentropy\", metrics=[\"accuracy\"])\n",
        "model.fit(pad_train_seq, train_l, epochs=50, validation_data=(pad_test_seq, test_l))\n"
      ],
      "metadata": {
        "colab": {
          "base_uri": "https://localhost:8080/"
        },
        "id": "6cTvlS_N08XK",
        "outputId": "304ff337-0b5a-4613-9f5e-32fda1cc87b6"
      },
      "execution_count": 21,
      "outputs": [
        {
          "output_type": "stream",
          "name": "stdout",
          "text": [
            "Epoch 1/50\n",
            "625/625 [==============================] - 31s 44ms/step - loss: 0.4626 - accuracy: 0.7638 - val_loss: 0.3981 - val_accuracy: 0.8122\n",
            "Epoch 2/50\n",
            "625/625 [==============================] - 28s 44ms/step - loss: 0.3647 - accuracy: 0.8314 - val_loss: 0.3993 - val_accuracy: 0.8094\n",
            "Epoch 3/50\n",
            "625/625 [==============================] - 27s 43ms/step - loss: 0.3509 - accuracy: 0.8393 - val_loss: 0.3866 - val_accuracy: 0.8202\n",
            "Epoch 4/50\n",
            "625/625 [==============================] - 27s 43ms/step - loss: 0.3349 - accuracy: 0.8496 - val_loss: 0.3752 - val_accuracy: 0.8323\n",
            "Epoch 5/50\n",
            "625/625 [==============================] - 28s 45ms/step - loss: 0.3178 - accuracy: 0.8591 - val_loss: 0.3753 - val_accuracy: 0.8331\n",
            "Epoch 6/50\n",
            "625/625 [==============================] - 27s 43ms/step - loss: 0.3038 - accuracy: 0.8651 - val_loss: 0.3805 - val_accuracy: 0.8278\n",
            "Epoch 7/50\n",
            "625/625 [==============================] - 27s 43ms/step - loss: 0.2973 - accuracy: 0.8680 - val_loss: 0.3760 - val_accuracy: 0.8322\n",
            "Epoch 8/50\n",
            "625/625 [==============================] - 31s 49ms/step - loss: 0.2870 - accuracy: 0.8735 - val_loss: 0.3770 - val_accuracy: 0.8323\n",
            "Epoch 9/50\n",
            "625/625 [==============================] - 27s 43ms/step - loss: 0.2795 - accuracy: 0.8773 - val_loss: 0.3811 - val_accuracy: 0.8314\n",
            "Epoch 10/50\n",
            "625/625 [==============================] - 27s 43ms/step - loss: 0.2720 - accuracy: 0.8821 - val_loss: 0.3879 - val_accuracy: 0.8337\n",
            "Epoch 11/50\n",
            "625/625 [==============================] - 28s 44ms/step - loss: 0.2677 - accuracy: 0.8835 - val_loss: 0.3954 - val_accuracy: 0.8272\n",
            "Epoch 12/50\n",
            "625/625 [==============================] - 27s 43ms/step - loss: 0.2608 - accuracy: 0.8865 - val_loss: 0.4112 - val_accuracy: 0.8243\n",
            "Epoch 13/50\n",
            "625/625 [==============================] - 27s 43ms/step - loss: 0.2552 - accuracy: 0.8891 - val_loss: 0.4126 - val_accuracy: 0.8256\n",
            "Epoch 14/50\n",
            "625/625 [==============================] - 27s 43ms/step - loss: 0.2483 - accuracy: 0.8917 - val_loss: 0.4248 - val_accuracy: 0.8250\n",
            "Epoch 15/50\n",
            "625/625 [==============================] - 28s 45ms/step - loss: 0.2410 - accuracy: 0.8953 - val_loss: 0.4251 - val_accuracy: 0.8213\n",
            "Epoch 16/50\n",
            "625/625 [==============================] - 27s 43ms/step - loss: 0.2342 - accuracy: 0.8987 - val_loss: 0.4256 - val_accuracy: 0.8247\n",
            "Epoch 17/50\n",
            "625/625 [==============================] - 27s 43ms/step - loss: 0.2256 - accuracy: 0.9037 - val_loss: 0.4658 - val_accuracy: 0.8207\n",
            "Epoch 18/50\n",
            "625/625 [==============================] - 29s 46ms/step - loss: 0.2193 - accuracy: 0.9071 - val_loss: 0.4744 - val_accuracy: 0.8229\n",
            "Epoch 19/50\n",
            "625/625 [==============================] - 28s 45ms/step - loss: 0.2113 - accuracy: 0.9117 - val_loss: 0.4819 - val_accuracy: 0.8190\n",
            "Epoch 20/50\n",
            "625/625 [==============================] - 27s 43ms/step - loss: 0.2024 - accuracy: 0.9147 - val_loss: 0.5217 - val_accuracy: 0.8217\n",
            "Epoch 21/50\n",
            "625/625 [==============================] - 28s 44ms/step - loss: 0.1948 - accuracy: 0.9182 - val_loss: 0.5037 - val_accuracy: 0.8201\n",
            "Epoch 22/50\n",
            "625/625 [==============================] - 27s 43ms/step - loss: 0.1879 - accuracy: 0.9219 - val_loss: 0.5407 - val_accuracy: 0.8192\n",
            "Epoch 23/50\n",
            "625/625 [==============================] - 27s 43ms/step - loss: 0.1814 - accuracy: 0.9251 - val_loss: 0.5612 - val_accuracy: 0.8143\n",
            "Epoch 24/50\n",
            "625/625 [==============================] - 27s 43ms/step - loss: 0.1706 - accuracy: 0.9287 - val_loss: 0.6153 - val_accuracy: 0.8155\n",
            "Epoch 25/50\n",
            "625/625 [==============================] - 28s 45ms/step - loss: 0.1623 - accuracy: 0.9334 - val_loss: 0.5695 - val_accuracy: 0.8149\n",
            "Epoch 26/50\n",
            "625/625 [==============================] - 27s 43ms/step - loss: 0.1559 - accuracy: 0.9341 - val_loss: 0.7250 - val_accuracy: 0.8126\n",
            "Epoch 27/50\n",
            "625/625 [==============================] - 28s 44ms/step - loss: 0.1460 - accuracy: 0.9401 - val_loss: 0.7222 - val_accuracy: 0.8137\n",
            "Epoch 28/50\n",
            "625/625 [==============================] - 28s 45ms/step - loss: 0.1447 - accuracy: 0.9404 - val_loss: 0.7297 - val_accuracy: 0.8094\n",
            "Epoch 29/50\n",
            "625/625 [==============================] - 27s 43ms/step - loss: 0.1383 - accuracy: 0.9436 - val_loss: 0.7818 - val_accuracy: 0.8141\n",
            "Epoch 30/50\n",
            "625/625 [==============================] - 28s 44ms/step - loss: 0.1287 - accuracy: 0.9486 - val_loss: 0.8289 - val_accuracy: 0.8091\n",
            "Epoch 31/50\n",
            "625/625 [==============================] - 28s 44ms/step - loss: 0.1274 - accuracy: 0.9488 - val_loss: 0.8279 - val_accuracy: 0.8095\n",
            "Epoch 32/50\n",
            "625/625 [==============================] - 27s 43ms/step - loss: 0.1190 - accuracy: 0.9530 - val_loss: 0.8946 - val_accuracy: 0.8044\n",
            "Epoch 33/50\n",
            "625/625 [==============================] - 27s 43ms/step - loss: 0.1141 - accuracy: 0.9554 - val_loss: 0.9126 - val_accuracy: 0.8019\n",
            "Epoch 34/50\n",
            "625/625 [==============================] - 27s 43ms/step - loss: 0.1056 - accuracy: 0.9584 - val_loss: 0.9575 - val_accuracy: 0.7964\n",
            "Epoch 35/50\n",
            "625/625 [==============================] - 28s 44ms/step - loss: 0.1008 - accuracy: 0.9589 - val_loss: 1.0486 - val_accuracy: 0.7998\n",
            "Epoch 36/50\n",
            "625/625 [==============================] - 27s 43ms/step - loss: 0.0999 - accuracy: 0.9591 - val_loss: 0.9930 - val_accuracy: 0.7980\n",
            "Epoch 37/50\n",
            "625/625 [==============================] - 28s 45ms/step - loss: 0.0956 - accuracy: 0.9620 - val_loss: 1.1187 - val_accuracy: 0.8053\n",
            "Epoch 38/50\n",
            "625/625 [==============================] - 28s 44ms/step - loss: 0.0874 - accuracy: 0.9657 - val_loss: 1.1854 - val_accuracy: 0.8037\n",
            "Epoch 39/50\n",
            "625/625 [==============================] - 27s 43ms/step - loss: 0.0861 - accuracy: 0.9658 - val_loss: 1.1402 - val_accuracy: 0.7958\n",
            "Epoch 40/50\n",
            "625/625 [==============================] - 27s 43ms/step - loss: 0.0789 - accuracy: 0.9678 - val_loss: 1.2666 - val_accuracy: 0.8043\n",
            "Epoch 41/50\n",
            "625/625 [==============================] - 30s 48ms/step - loss: 0.0796 - accuracy: 0.9678 - val_loss: 1.3095 - val_accuracy: 0.8007\n",
            "Epoch 42/50\n",
            "625/625 [==============================] - 27s 43ms/step - loss: 0.0724 - accuracy: 0.9708 - val_loss: 1.3941 - val_accuracy: 0.7955\n",
            "Epoch 43/50\n",
            "625/625 [==============================] - 27s 43ms/step - loss: 0.0722 - accuracy: 0.9705 - val_loss: 1.3185 - val_accuracy: 0.7977\n",
            "Epoch 44/50\n",
            "625/625 [==============================] - 28s 44ms/step - loss: 0.0691 - accuracy: 0.9724 - val_loss: 1.3768 - val_accuracy: 0.7885\n",
            "Epoch 45/50\n",
            "625/625 [==============================] - 27s 43ms/step - loss: 0.0654 - accuracy: 0.9735 - val_loss: 1.6064 - val_accuracy: 0.8040\n",
            "Epoch 46/50\n",
            "625/625 [==============================] - 28s 45ms/step - loss: 0.0616 - accuracy: 0.9748 - val_loss: 1.5738 - val_accuracy: 0.7949\n",
            "Epoch 47/50\n",
            "625/625 [==============================] - 27s 43ms/step - loss: 0.0648 - accuracy: 0.9746 - val_loss: 1.4699 - val_accuracy: 0.7943\n",
            "Epoch 48/50\n",
            "625/625 [==============================] - 27s 44ms/step - loss: 0.0568 - accuracy: 0.9765 - val_loss: 1.5659 - val_accuracy: 0.7951\n",
            "Epoch 49/50\n",
            "625/625 [==============================] - 27s 43ms/step - loss: 0.0566 - accuracy: 0.9776 - val_loss: 1.6185 - val_accuracy: 0.7951\n",
            "Epoch 50/50\n",
            "625/625 [==============================] - 27s 43ms/step - loss: 0.0564 - accuracy: 0.9765 - val_loss: 1.6063 - val_accuracy: 0.7931\n"
          ]
        },
        {
          "output_type": "execute_result",
          "data": {
            "text/plain": [
              "<keras.callbacks.History at 0x7d12d6aba0b0>"
            ]
          },
          "metadata": {},
          "execution_count": 21
        }
      ]
    }
  ]
}